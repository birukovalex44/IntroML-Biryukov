{
  "cells": [
    {
      "cell_type": "markdown",
      "metadata": {
        "id": "toWVCd21dfOy"
      },
      "source": [
        "Лабораторная работа №1 Бирюкова Алексея\n",
        "\n",
        "В этой лабораторной с помощью Pandas мы ответим на несколько вопросов об этом [датасете](https://disk.yandex.ru/d/6WlIXR-y_PObLg)"
      ]
    },
    {
      "cell_type": "code",
      "execution_count": 2,
      "metadata": {
        "id": "pNpfcbFddUOU"
      },
      "outputs": [],
      "source": [
        "import numpy as np\n",
        "import pandas as pd\n",
        "import matplotlib.pyplot as plt\n",
        "import seaborn as sns\n",
        "\n",
        "plt.rcParams[\"figure.figsize\"] = (18, 10)"
      ]
    },
    {
      "cell_type": "markdown",
      "metadata": {
        "id": "gW09gRt_ePVM"
      },
      "source": [
        "**Задание 0: Прочитайте скачанный датасет и выведите его**"
      ]
    },
    {
      "cell_type": "code",
      "execution_count": 3,
      "metadata": {
        "colab": {
          "base_uri": "https://localhost:8080/"
        },
        "id": "HhYExiiCeOcO",
        "outputId": "7b3430b6-6d86-4e21-cc60-dabbef7feefd"
      },
      "outputs": [
        {
          "name": "stdout",
          "output_type": "stream",
          "text": [
            "       age         workclass  fnlwgt   education  education-num  \\\n",
            "0       39         State-gov   77516   Bachelors             13   \n",
            "1       50  Self-emp-not-inc   83311   Bachelors             13   \n",
            "2       38           Private  215646     HS-grad              9   \n",
            "3       53           Private  234721        11th              7   \n",
            "4       28           Private  338409   Bachelors             13   \n",
            "...    ...               ...     ...         ...            ...   \n",
            "32556   27           Private  257302  Assoc-acdm             12   \n",
            "32557   40           Private  154374     HS-grad              9   \n",
            "32558   58           Private  151910     HS-grad              9   \n",
            "32559   22           Private  201490     HS-grad              9   \n",
            "32560   52      Self-emp-inc  287927     HS-grad              9   \n",
            "\n",
            "           marital-status         occupation   relationship   race     sex  \\\n",
            "0           Never-married       Adm-clerical  Not-in-family  White    Male   \n",
            "1      Married-civ-spouse    Exec-managerial        Husband  White    Male   \n",
            "2                Divorced  Handlers-cleaners  Not-in-family  White    Male   \n",
            "3      Married-civ-spouse  Handlers-cleaners        Husband  Black    Male   \n",
            "4      Married-civ-spouse     Prof-specialty           Wife  Black  Female   \n",
            "...                   ...                ...            ...    ...     ...   \n",
            "32556  Married-civ-spouse       Tech-support           Wife  White  Female   \n",
            "32557  Married-civ-spouse  Machine-op-inspct        Husband  White    Male   \n",
            "32558             Widowed       Adm-clerical      Unmarried  White  Female   \n",
            "32559       Never-married       Adm-clerical      Own-child  White    Male   \n",
            "32560  Married-civ-spouse    Exec-managerial           Wife  White  Female   \n",
            "\n",
            "       capital-gain  capital-loss  hours-per-week native-country salary  \n",
            "0              2174             0              40  United-States  <=50K  \n",
            "1                 0             0              13  United-States  <=50K  \n",
            "2                 0             0              40  United-States  <=50K  \n",
            "3                 0             0              40  United-States  <=50K  \n",
            "4                 0             0              40           Cuba  <=50K  \n",
            "...             ...           ...             ...            ...    ...  \n",
            "32556             0             0              38  United-States  <=50K  \n",
            "32557             0             0              40  United-States   >50K  \n",
            "32558             0             0              40  United-States  <=50K  \n",
            "32559             0             0              20  United-States  <=50K  \n",
            "32560         15024             0              40  United-States   >50K  \n",
            "\n",
            "[32561 rows x 15 columns]\n"
          ]
        }
      ],
      "source": [
        "df = pd.read_csv('adult_data.csv')\n",
        "print(df)"
      ]
    },
    {
      "cell_type": "markdown",
      "metadata": {
        "id": "JVQGbUBselow"
      },
      "source": [
        "**Задание 1: Найдите количество мужчин и количество женщин в датасете**"
      ]
    },
    {
      "cell_type": "code",
      "execution_count": 4,
      "metadata": {
        "colab": {
          "base_uri": "https://localhost:8080/"
        },
        "id": "uAv60WaKelCu",
        "outputId": "bdd42e0a-fb0d-4d65-f1e5-a96816cb9fdb"
      },
      "outputs": [
        {
          "name": "stdout",
          "output_type": "stream",
          "text": [
            "sex\n",
            "Male      21790\n",
            "Female    10771\n",
            "Name: count, dtype: int64\n"
          ]
        }
      ],
      "source": [
        "print(df['sex'].value_counts())"
      ]
    },
    {
      "cell_type": "markdown",
      "metadata": {
        "id": "Y06yOKbjeyLW"
      },
      "source": [
        "**Задание 2: Найдите средний возраст мужчин**"
      ]
    },
    {
      "cell_type": "code",
      "execution_count": null,
      "metadata": {
        "colab": {
          "base_uri": "https://localhost:8080/"
        },
        "id": "1e_Iem6_e4QO",
        "outputId": "e435765c-edd7-4818-98a7-85c4edd94cfa"
      },
      "outputs": [
        {
          "name": "stdout",
          "output_type": "stream",
          "text": [
            "39.43354749885268\n"
          ]
        }
      ],
      "source": [
        "print(df[df['sex'] == 'Male']['age'].mean())"
      ]
    },
    {
      "cell_type": "markdown",
      "metadata": {
        "id": "9_cZ8oZue6Av"
      },
      "source": [
        "**Задание 3: Найдите процент людей, которые являются гражданами Тайваня (Taiwan)**"
      ]
    },
    {
      "cell_type": "code",
      "execution_count": null,
      "metadata": {
        "colab": {
          "base_uri": "https://localhost:8080/"
        },
        "id": "pSmTBDHyfJ2n",
        "outputId": "f18ac5c4-11e2-4085-facf-370684fb0e07"
      },
      "outputs": [
        {
          "name": "stdout",
          "output_type": "stream",
          "text": [
            "0.1566290961579804\n"
          ]
        }
      ],
      "source": [
        "print(((df['native-country'] == 'Taiwan').sum()/len(df))*100)"
      ]
    },
    {
      "cell_type": "markdown",
      "metadata": {
        "id": "5iEMiKIEfLiE"
      },
      "source": [
        "**Задание 4: Найдите среднее значение возраста для людей, которые зарабатывают >50K**"
      ]
    },
    {
      "cell_type": "code",
      "execution_count": null,
      "metadata": {
        "colab": {
          "base_uri": "https://localhost:8080/"
        },
        "id": "mNNWysqbfZRX",
        "outputId": "a67443da-bb02-40fa-de35-f43d4d4f8df4"
      },
      "outputs": [
        {
          "name": "stdout",
          "output_type": "stream",
          "text": [
            "44.24984058155847\n"
          ]
        }
      ],
      "source": [
        "print(df[df['salary'] == '>50K']['age'].mean())"
      ]
    },
    {
      "cell_type": "markdown",
      "metadata": {
        "id": "VIm2T6VjfZ_n"
      },
      "source": [
        "**Задание 5: Найдите стандартное отклонение возраста для людей, которые зарабатывают >50K**"
      ]
    },
    {
      "cell_type": "code",
      "execution_count": null,
      "metadata": {
        "colab": {
          "base_uri": "https://localhost:8080/"
        },
        "id": "mYZ_ZNzHfgC2",
        "outputId": "099aa100-6fca-4d0a-f41b-f82479f2c5e5"
      },
      "outputs": [
        {
          "name": "stdout",
          "output_type": "stream",
          "text": [
            "10.51902771985177\n"
          ]
        }
      ],
      "source": [
        "print(df[df['salary'] == '>50K']['age'].std())"
      ]
    },
    {
      "cell_type": "markdown",
      "metadata": {
        "id": "QfKb8L3Hfg5W"
      },
      "source": [
        "**Задание 6: Проверьте, правда ли что все люди, которые зарабытвают >50K, имеют образование Bachelors+**"
      ]
    },
    {
      "cell_type": "code",
      "execution_count": 6,
      "metadata": {
        "colab": {
          "base_uri": "https://localhost:8080/"
        },
        "id": "VG-mO_Jxf6PD",
        "outputId": "9b73ec37-0c8e-4ce0-ce4c-0c8c40f53805"
      },
      "outputs": [
        {
          "name": "stdout",
          "output_type": "stream",
          "text": [
            "False\n"
          ]
        }
      ],
      "source": [
        "he = ['Bachelors', 'Masters', 'Doctorate']\n",
        "s = df[df['salary'] == '>50K']\n",
        "ToF = s['education'].isin(he).all()\n",
        "print(ToF)"
      ]
    },
    {
      "cell_type": "markdown",
      "metadata": {
        "id": "YNy1oplUgury"
      },
      "source": [
        "**Задание 7: Сколько человек, работающих 40 часов и являющихся гражданами США (United-States), зарабатывают <=50K**"
      ]
    },
    {
      "cell_type": "code",
      "execution_count": null,
      "metadata": {
        "colab": {
          "base_uri": "https://localhost:8080/"
        },
        "id": "silJuRj4glAH",
        "outputId": "f29eefad-6f61-42fb-a943-5bf0f289319f"
      },
      "outputs": [
        {
          "name": "stdout",
          "output_type": "stream",
          "text": [
            "10493\n"
          ]
        }
      ],
      "source": [
        "print(df[(df['hours-per-week'] == 40) & (df['native-country'] == 'United-States') & (df['salary'] == '<=50K')].shape[0])"
      ]
    },
    {
      "cell_type": "markdown",
      "metadata": {
        "id": "nmZyuqFSoRvG"
      },
      "source": [
        "**Задание 8: Теперь чуть сложнее. Давайте найдем максимальное количество часов в неделю (hours-per-week), а потом посмотрим, сколько человек работают столько времени в неделю и зарабатывают <=50K**"
      ]
    },
    {
      "cell_type": "code",
      "execution_count": null,
      "metadata": {
        "colab": {
          "base_uri": "https://localhost:8080/"
        },
        "id": "snfyhQwHokfK",
        "outputId": "d4eb0dc0-6c79-442c-97a4-081c25af824f"
      },
      "outputs": [
        {
          "name": "stdout",
          "output_type": "stream",
          "text": [
            "99 60\n"
          ]
        }
      ],
      "source": [
        "max_hours = df['hours-per-week'].max()\n",
        "count = df[(df['hours-per-week'] == max_hours) & (df['salary'] == '<=50K')].shape[0]\n",
        "print(max_hours, count)"
      ]
    },
    {
      "cell_type": "markdown",
      "metadata": {
        "id": "uT8jJ3b5ikjn"
      },
      "source": [
        "**Задание 9: В этом задании вам предстоит построить ваш первый график. Ответьте на вопрос: людей с каким образованием больше всего представленно в датасете? \\\n",
        "P.S Использовать можно matplotlib, seaborn, plotly**"
      ]
    },
    {
      "cell_type": "code",
      "execution_count": null,
      "metadata": {
        "colab": {
          "base_uri": "https://localhost:8080/",
          "height": 386
        },
        "id": "RugU6jsNjYao",
        "outputId": "31f4bb43-610f-4fd9-ee6a-fbda94d762c7"
      },
      "outputs": [
        {
          "data": {
            "image/png": "[encoded data removed]",
            "text/plain": [
              "<Figure size 1200x600 with 1 Axes>"
            ]
          },
          "metadata": {},
          "output_type": "display_data"
        }
      ],
      "source": [
        "plt.figure(figsize=(12, 6))\n",
        "df['education'].value_counts().plot(kind='bar')\n",
        "plt.title('Образование людей')\n",
        "plt.xlabel('Образование')\n",
        "plt.ylabel('Количество людей')\n",
        "plt.show()"
      ]
    },
    {
      "cell_type": "markdown",
      "metadata": {
        "id": "fFHyZAmoj_Q5"
      },
      "source": [
        "**Задание 10: А теперь давайте посмотрим на распределение возрастов. Сколько возрастных отрезков имеют больше 1600 значений? (Одним \"отрезков\" является один столбец при стандартных настройках seaborn/matplotlib)\n",
        "P.S. Необязательное задание, хотя лучше сделать, если собираетесь сдавать до мягкого, я хоты бы посмотрю**"
      ]
    },
    {
      "cell_type": "code",
      "execution_count": null,
      "metadata": {
        "colab": {
          "base_uri": "https://localhost:8080/"
        },
        "id": "TGaQzgixj-sP",
        "outputId": "011c2f2e-9dbe-4d19-d948-a9f1745c18d8"
      },
      "outputs": [
        {
          "name": "stdout",
          "output_type": "stream",
          "text": [
            "6\n"
          ]
        }
      ],
      "source": [
        "# я не понял на сколько интервалов делить, поэтому взял 10 ;)\n",
        "interv = pd.cut(df['age'], bins=10)\n",
        "counts = interv.value_counts()\n",
        "print(counts[counts > 1600].count())"
      ]
    }
  ],
  "metadata": {
    "colab": {
      "provenance": []
    },
    "kernelspec": {
      "display_name": "Python 3",
      "name": "python3"
    },
    "language_info": {
      "name": "python"
    }
  },
  "nbformat": 4,
  "nbformat_minor": 0
}
